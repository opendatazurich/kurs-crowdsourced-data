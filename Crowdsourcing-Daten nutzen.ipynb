{
 "cells": [
  {
   "cell_type": "markdown",
   "id": "7214426b",
   "metadata": {
    "slideshow": {
     "slide_type": "slide"
    }
   },
   "source": [
    "# Crowdsouring-Daten nutzen\n",
    "\n",
    "Daten aus OpenStreetMap (OSM) und WikiData zusammen mit städtischen Daten nutzen\n",
    "\n",
    "**Jupyter-Notebook laden: [bit.ly/gisforum2021](https://bit.ly/gisforum2021)**"
   ]
  },
  {
   "cell_type": "markdown",
   "id": "675069b3",
   "metadata": {
    "slideshow": {
     "slide_type": "slide"
    }
   },
   "source": [
    "## Initialisierung"
   ]
  },
  {
   "cell_type": "code",
   "execution_count": 2,
   "id": "9240c706",
   "metadata": {
    "code_folding": [
     0
    ]
   },
   "outputs": [],
   "source": [
    "# Python Pakete installieren (auf JupyterHub nicht nötig!)\n",
    "# pip install -r requirements.txt"
   ]
  },
  {
   "cell_type": "code",
   "execution_count": null,
   "id": "cedec76d",
   "metadata": {
    "slideshow": {
     "slide_type": "-"
    }
   },
   "outputs": [],
   "source": [
    "import os\n",
    "import json\n",
    "from pprint import pprint\n",
    "\n",
    "import requests\n",
    "import folium\n",
    "import geopandas\n",
    "import pandas as pd\n",
    "from IPython.display import HTML, display\n",
    "\n",
    "import utils"
   ]
  },
  {
   "cell_type": "code",
   "execution_count": null,
   "id": "35ce4475",
   "metadata": {
    "slideshow": {
     "slide_type": "-"
    }
   },
   "outputs": [],
   "source": [
    "lv95 = 'EPSG:2056'\n",
    "wgs84 = 'EPSG:4326'"
   ]
  },
  {
   "cell_type": "markdown",
   "id": "6af5cd1b",
   "metadata": {
    "slideshow": {
     "slide_type": "slide"
    }
   },
   "source": [
    "# Städtische Daten «Kunst im öffentlichen Raum (KiöR)»\n",
    "\n",
    "Im ersten Teil schauen wir uns an, wie wir städtische Daten mit Daten aus OpenStreetMap (OSM) anreichern können.\n",
    "Dazu laden wir uns zuerst den Datensatz «Kunst im öffentlichen Raum» via WFS.\n",
    "\n",
    "[Via OGD-Portal](https://data.stadt-zuerich.ch/dataset?q=kunst+im+%C3%B6ffentlichen+raum) finden wir den Datensatz [Kunst im Stadtraum](https://data.stadt-zuerich.ch/dataset/geo_kunst_im_stadtraum).\n",
    "Von dort via GeoJSON auf das [Geoportal](https://www.stadt-zuerich.ch/geodaten/download/Kunst_im_Stadtraum?format=10009) zur richtigen URL."
   ]
  },
  {
   "cell_type": "markdown",
   "id": "99a0f6be",
   "metadata": {
    "slideshow": {
     "slide_type": "slide"
    }
   },
   "source": [
    "## Variablen setzen"
   ]
  },
  {
   "cell_type": "code",
   "execution_count": null,
   "id": "2b16cb9d",
   "metadata": {
    "code_folding": [],
    "slideshow": {
     "slide_type": "-"
    }
   },
   "outputs": [],
   "source": [
    "kioer_geojson_url = 'https://www.ogd.stadt-zuerich.ch/wfs/geoportal/Kunst_im_Stadtraum?service=WFS&version=1.1.0&request=GetFeature&outputFormat=GeoJSON&typename=view_kioer'\n",
    "kioer_layer = 'view_kioer'\n",
    "wfs_url = 'https://www.ogd.stadt-zuerich.ch/wfs/geoportal/Kunst_im_Stadtraum' \n",
    "layers = utils.get_layers_from_wfs(wfs_url)"
   ]
  },
  {
   "cell_type": "markdown",
   "id": "9bf71f32",
   "metadata": {
    "slideshow": {
     "slide_type": "slide"
    }
   },
   "source": [
    "## WFS GetFeature Request absetzen"
   ]
  },
  {
   "cell_type": "code",
   "execution_count": null,
   "id": "2cf214d4",
   "metadata": {
    "code_folding": [],
    "slideshow": {
     "slide_type": "-"
    }
   },
   "outputs": [],
   "source": [
    "r = requests.get(wfs_url, params={\n",
    "    'service': 'WFS',\n",
    "    'version': '1.0.0',\n",
    "    'request': 'GetFeature',\n",
    "    'typename': kioer_layer,\n",
    "    'outputFormat': 'GeoJSON'\n",
    "})\n",
    "\n",
    "kioer_geo = r.json()\n",
    "kioer_geo"
   ]
  },
  {
   "cell_type": "markdown",
   "id": "86a05c71",
   "metadata": {
    "slideshow": {
     "slide_type": "slide"
    }
   },
   "source": [
    "# Daten aus OpenStreetMap laden\n",
    "\n",
    "Wir suchen thematisch passende Daten aus OpenStreetMap.\n",
    "Um diese zu finden, lohnt es sich das [OpenStreetMap Wiki](https://wiki.openstreetmap.org/wiki/Main_Page) zu durchsuchen und passende Tags zu finden.\n",
    "\n",
    "**ACHTUNG:** Daten aus OpenStreetMap stehen unter der [Open Data Commons Open Database License (ODbL)](https://opendatacommons.org/licenses/odbl/1-0/). D.h. die Verwendung der Daten ist erlaubt wenn:\n",
    "\n",
    "- die Quelle erwähnt wird und\n",
    "- allfällige Änderungen unter derselben Lizenz zur Verfügung stehen"
   ]
  },
  {
   "cell_type": "markdown",
   "id": "a14ea899",
   "metadata": {
    "slideshow": {
     "slide_type": "slide"
    }
   },
   "source": [
    "## OSM-Daten laden\n",
    "\n",
    "Daten von OpenStreetMap (OSM) können u.a. via Overpass API geladen werden.\n",
    "Overpass hat eine eigene Abfragesprache ([Overpass QL](https://wiki.openstreetmap.org/wiki/Overpass_API/Overpass_QL)), mit der Objekte (Nodes, Ways, Relations) abgefragt werden können.\n",
    "\n",
    "![OpenStreetMap Datenmodell](assets/images/osm_data_model.png)\n",
    "<sup>[Bildquelle: &copy; Itinero](https://docs.itinero.tech/docs/osmsharp/osm.html)</sup>"
   ]
  },
  {
   "cell_type": "markdown",
   "id": "078764c4",
   "metadata": {
    "slideshow": {
     "slide_type": "slide"
    }
   },
   "source": [
    "## Overpass Query absetzen\n",
    "\n",
    "[Query in Overpass Turbo ausführen](https://osm.li/UfK)"
   ]
  },
  {
   "cell_type": "code",
   "execution_count": null,
   "id": "821eeb1f",
   "metadata": {
    "code_folding": [],
    "slideshow": {
     "slide_type": "-"
    }
   },
   "outputs": [],
   "source": [
    "artwork_zh = \"\"\"\n",
    "/*\n",
    "Alle Kunstwerke (tourism=artwork) in der Stadt Zürich\n",
    "*/\n",
    "[out:json];\n",
    "area[\"name\"=\"Zürich\"][\"wikipedia\"=\"de:Zürich\"]->.perimeter; \n",
    "(\n",
    "  nwr[tourism=artwork](area.perimeter);\n",
    ");\n",
    "out center;\n",
    "\"\"\"\n",
    "osm_result = utils.overpass_query(artwork_zh)\n",
    "osm_result"
   ]
  },
  {
   "cell_type": "markdown",
   "id": "660aea8c",
   "metadata": {
    "slideshow": {
     "slide_type": "slide"
    }
   },
   "source": [
    "## Karte mit den Resultaten"
   ]
  },
  {
   "cell_type": "code",
   "execution_count": null,
   "id": "347cebba",
   "metadata": {
    "code_folding": [],
    "slideshow": {
     "slide_type": "-"
    }
   },
   "outputs": [],
   "source": [
    "# Basiskarte\n",
    "m = utils.base_map()\n",
    "\n",
    "# KiöR-Daten hinzufügen\n",
    "kioer_layer = folium.FeatureGroup(name='KiöR', show=True)\n",
    "utils.style_layer(kioer_geo, kioer_layer, icon_color='#031cff', icon='certificate', prefix='fa')\n",
    "kioer_layer.add_to(m)\n",
    "\n",
    "# OSM-Daten hinzufügen\n",
    "osm_layer = folium.FeatureGroup(name='OSM: tourism=artwork', show=True)\n",
    "utils.style_layer(osm_result, osm_layer, icon_color='#ff0000', icon='fire', prefix='fa')\n",
    "osm_layer.add_to(m)\n",
    "\n",
    "# Add controls for layers\n",
    "folium.LayerControl().add_to(m)\n",
    "m"
   ]
  },
  {
   "cell_type": "markdown",
   "id": "9e46094c",
   "metadata": {
    "slideshow": {
     "slide_type": "slide"
    }
   },
   "source": [
    "## Spatial Join der zwei Quellen\n",
    "\n",
    "Um die beiden Quellen zu matchen gibt es grundsätzlich zwei Möglichkeiten:\n",
    "\n",
    "1. Join über Attribute (z.B. Titel des Kunstwerks)\n",
    "1. Räumlicher Join (Objekte die nah beieinander sind)\n",
    "\n",
    "Oder eine Kombination der beiden Ansätze.\n",
    "\n",
    "Im folgenden schauen wir uns den **Räumlichen Join («Spatial Join»)** genauer an."
   ]
  },
  {
   "cell_type": "markdown",
   "id": "8de54af8",
   "metadata": {
    "slideshow": {
     "slide_type": "subslide"
    }
   },
   "source": [
    "### GeoDataFrame für geopandas erstellen"
   ]
  },
  {
   "cell_type": "code",
   "execution_count": null,
   "id": "e1d4dae0",
   "metadata": {
    "slideshow": {
     "slide_type": "-"
    }
   },
   "outputs": [],
   "source": [
    "kioer_df = geopandas.GeoDataFrame.from_features(kioer_geo, crs=wgs84)\n",
    "kioer_df.head()"
   ]
  },
  {
   "cell_type": "code",
   "execution_count": null,
   "id": "7d16e993",
   "metadata": {
    "slideshow": {
     "slide_type": "-"
    }
   },
   "outputs": [],
   "source": [
    "osm_df = geopandas.GeoDataFrame.from_features(osm_result, crs=wgs84)\n",
    "osm_df.head()"
   ]
  },
  {
   "cell_type": "markdown",
   "id": "a37cd497",
   "metadata": {
    "slideshow": {
     "slide_type": "subslide"
    }
   },
   "source": [
    "### Geometrien für Join vorbereiten"
   ]
  },
  {
   "cell_type": "code",
   "execution_count": null,
   "id": "92d59e94",
   "metadata": {
    "code_folding": [],
    "slideshow": {
     "slide_type": "-"
    }
   },
   "outputs": [],
   "source": [
    "# Einträge mit leerer Geometrie\n",
    "kioer_df[(pd.isna(kioer_df.geometry))].head()"
   ]
  },
  {
   "cell_type": "code",
   "execution_count": null,
   "id": "7084fdb5",
   "metadata": {
    "slideshow": {
     "slide_type": "-"
    }
   },
   "outputs": [],
   "source": [
    "# Alle Einträge mit leerer Geometrie entfernen\n",
    "kior_buf = kioer_df.dropna(subset=['geometry']).reset_index(drop=True)\n",
    "osm_buf = osm_df.dropna(subset=['geometry']).reset_index(drop=True)\n",
    "\n",
    "# CRS zu LV95 re-projezieren\n",
    "kior_buf = kior_buf.to_crs(lv95) # Konvertieren zu 2D Koordinatensystem\n",
    "osm_buf = osm_buf.to_crs(lv95) # Konvertieren zu 2D Koordinatensystem\n",
    "\n",
    "# Buffer um die Geometrien hinzufügen (10 Meter)\n",
    "kior_buf['geometry'] = kior_buf.geometry.buffer(10) \n",
    "osm_buf['geometry'] = osm_buf.geometry.buffer(10)"
   ]
  },
  {
   "cell_type": "markdown",
   "id": "553d008f",
   "metadata": {
    "slideshow": {
     "slide_type": "subslide"
    }
   },
   "source": [
    "### Vorschau der Geometrien auf der Karte"
   ]
  },
  {
   "cell_type": "code",
   "execution_count": null,
   "id": "f32eea99",
   "metadata": {
    "scrolled": true,
    "slideshow": {
     "slide_type": "-"
    }
   },
   "outputs": [],
   "source": [
    "# Basiskarte \n",
    "bm = utils.base_map()\n",
    "\n",
    "folium.features.GeoJson(\n",
    "    kior_buf.to_crs(wgs84).to_json(),\n",
    "    tooltip=folium.features.GeoJsonTooltip(\n",
    "        fields=['titel', 'autoren', 'datierung', 'material'],\n",
    "        aliases=['Titel:', 'Künstler:', 'Datierung:', 'Material:'],    \n",
    "    )\n",
    ").add_to(bm)\n",
    "\n",
    "folium.features.GeoJson(\n",
    "    osm_buf.to_crs(wgs84).to_json(),\n",
    "    style_function=lambda x: {'fillColor': '#FF0000', 'color': '#FF0000'},\n",
    "    tooltip=folium.features.GeoJsonTooltip(\n",
    "        fields=['name', 'artist_name', 'wikidata'],\n",
    "        aliases=['Titel:', 'Künstler:', \"Wikidata:\"],                      \n",
    "    )\n",
    ").add_to(bm)\n",
    "bm"
   ]
  },
  {
   "cell_type": "markdown",
   "id": "66c66876",
   "metadata": {
    "slideshow": {
     "slide_type": "subslide"
    }
   },
   "source": [
    "### Join durchführen"
   ]
  },
  {
   "cell_type": "code",
   "execution_count": null,
   "id": "45199760",
   "metadata": {
    "slideshow": {
     "slide_type": "-"
    }
   },
   "outputs": [],
   "source": [
    "# spatial join über die beiden Geometrien\n",
    "sjoin_kunst = geopandas.sjoin(kior_buf, osm_buf, how='left', predicate='intersects', lsuffix='kior', rsuffix='osm').reset_index()\n",
    "\n",
    "# Wie zurück zu WGS84\n",
    "sjoin_kunst = sjoin_kunst.to_crs(wgs84)\n",
    "\n",
    "\n",
    "with pd.option_context('display.max_rows', None, 'display.max_columns', None):\n",
    "    display(sjoin_kunst[['titel', 'name', 'autoren', 'artist_name', 'material_kior', 'material_osm', 'datierung']])"
   ]
  },
  {
   "cell_type": "markdown",
   "id": "e966cd2b",
   "metadata": {
    "slideshow": {
     "slide_type": "subslide"
    }
   },
   "source": [
    "### Resultat des Joins auf der Karte"
   ]
  },
  {
   "cell_type": "code",
   "execution_count": null,
   "id": "d53f0fbe",
   "metadata": {
    "slideshow": {
     "slide_type": "-"
    }
   },
   "outputs": [],
   "source": [
    "folium.features.GeoJson(\n",
    "    sjoin_kunst.to_json(),\n",
    "    style_function=lambda x: {'fillColor': '#09bd63', 'color': '#09bd63'},\n",
    "    tooltip=folium.features.GeoJsonTooltip(\n",
    "        fields=['name', 'artist_name', 'wikidata'],\n",
    "        aliases=['Titel:', 'Künstler:', \"Wikidata:\"],                      \n",
    "    )\n",
    ").add_to(bm)\n",
    "bm"
   ]
  },
  {
   "cell_type": "markdown",
   "id": "d3cf6887",
   "metadata": {
    "slideshow": {
     "slide_type": "subslide"
    }
   },
   "source": [
    "### OSM-Einträge ohne Match"
   ]
  },
  {
   "cell_type": "code",
   "execution_count": null,
   "id": "0c613189",
   "metadata": {
    "slideshow": {
     "slide_type": "-"
    }
   },
   "outputs": [],
   "source": [
    "# OSM-Einträge ohne Match\n",
    "osm_no_match = osm_df[(~osm_df.id.isin(sjoin_kunst.id))].reset_index()\n",
    "osm_no_match.head()"
   ]
  },
  {
   "cell_type": "markdown",
   "id": "167e6a81",
   "metadata": {
    "slideshow": {
     "slide_type": "subslide"
    }
   },
   "source": [
    "### Geopackage erstellen\n",
    "\n",
    "Das Result lässt sich sehr einfach als Geopackage exportieren.\n",
    "\n",
    "Im Beispiel ein Layer für die gematchten und ein Layer für die nicht-gematchten Einträge.\n",
    "\n",
    "**Das Geopackage lässt sich anschliessend z.B. in QGIS weiterverarbeiten**"
   ]
  },
  {
   "cell_type": "code",
   "execution_count": null,
   "id": "9c872097",
   "metadata": {
    "slideshow": {
     "slide_type": "-"
    }
   },
   "outputs": [],
   "source": [
    "osm_no_match.to_file(os.path.join('..', 'kunst_package.gpkg'), layer='osm_no_match', driver=\"GPKG\")\n",
    "sjoin_kunst.to_file(os.path.join('..', 'kunst_package.gpkg'), layer='kioer_osm_match', driver=\"GPKG\")"
   ]
  },
  {
   "cell_type": "markdown",
   "id": "82c022f9",
   "metadata": {
    "slideshow": {
     "slide_type": "slide"
    }
   },
   "source": [
    "# Daten aus WikiData laden\n",
    "\n",
    "WikiData ist ein Schwesterprojekt von Wikipedia.\n",
    "Es beinhaltet strukturierte Daten, welche via API abgefragt werden können (REST oder SPARQL).\n",
    "\n",
    "Alle Daten aus WikiData sind [CreativeCommons-Zero (CC0) lizenziert](https://creativecommons.org/publicdomain/zero/1.0/deed.de), können also bedenkenlos weiterverwendet werden."
   ]
  },
  {
   "cell_type": "markdown",
   "id": "64bce0a0",
   "metadata": {
    "slideshow": {
     "slide_type": "slide"
    }
   },
   "source": [
    "## Daten via WikiData-Verweise von OSM holen\n",
    "\n",
    "[OpenStreetMap Node «Heureka»](https://www.openstreetmap.org/node/268472148)\n"
   ]
  },
  {
   "cell_type": "code",
   "execution_count": null,
   "id": "2c658363",
   "metadata": {
    "slideshow": {
     "slide_type": "-"
    }
   },
   "outputs": [],
   "source": [
    "# WikiData Verweise von OpenStreetMap\n",
    "osm_kunst_wd = osm_df[(~pd.isna(osm_df.wikidata))] # alle Einträge, bei denen \"wikidata\" nicht leer ist\n",
    "osm_kunst_wd = osm_kunst_wd[['geometry', 'type', 'id', 'artist_name', 'artist:wikidata', 'name', 'wikidata']].reset_index(drop=True)\n",
    "osm_kunst_wd.head()"
   ]
  },
  {
   "cell_type": "markdown",
   "id": "c1b33e1e",
   "metadata": {
    "slideshow": {
     "slide_type": "subslide"
    }
   },
   "source": [
    "### Beispiel-Abfrage nach WikiData Item\n",
    "\n",
    "[Wikidata-Item «Heureka»](https://www.wikidata.org/wiki/Q1378316)"
   ]
  },
  {
   "cell_type": "code",
   "execution_count": null,
   "id": "f7b0e8fb",
   "metadata": {
    "slideshow": {
     "slide_type": "-"
    }
   },
   "outputs": [],
   "source": [
    "wikidata_item = utils.wikidata_item(osm_kunst_wd['wikidata'].iloc[0])\n",
    "pprint(wikidata_item['sitelinks'])"
   ]
  },
  {
   "cell_type": "markdown",
   "id": "f436b511",
   "metadata": {
    "slideshow": {
     "slide_type": "subslide"
    }
   },
   "source": [
    "**Bilder aus Wikimedia Commons laden:**"
   ]
  },
  {
   "cell_type": "code",
   "execution_count": null,
   "id": "066a9ce0",
   "metadata": {
    "slideshow": {
     "slide_type": "-"
    }
   },
   "outputs": [],
   "source": [
    "# Bilder laden\n",
    "category = wikidata_item['sitelinks']['commonswiki']['title']\n",
    "urls = utils.images_from_commons_category(category, image_size=500)\n",
    "urls"
   ]
  },
  {
   "cell_type": "code",
   "execution_count": null,
   "id": "00d741a4",
   "metadata": {
    "slideshow": {
     "slide_type": "-"
    }
   },
   "outputs": [],
   "source": [
    "#Bilder anzeigen\n",
    "display(HTML(''.join([utils.img_html(url) for url in urls])))"
   ]
  },
  {
   "cell_type": "markdown",
   "id": "4cd8a3aa",
   "metadata": {
    "slideshow": {
     "slide_type": "slide"
    }
   },
   "source": [
    "## Daten via SPARQL aus WikiData beziehen\n",
    "\n",
    "Um Daten aus WikiData zu laden, können Abfragen mit SPARQL gemacht werden. SPARQL ist eine SQL-ähnliche Abfragesprache für Linked Data.\n",
    "\n",
    "Die Idee von Linked Data ist es, einen Informations-Graphen in Form von sogenannten «Triples» abzubilden:\n",
    "\n",
    "![Linked Data Triple](assets/images/triple.png)\n",
    "\n",
    "\n",
    "**Triple = Subjekt (z.B. Marie) -> Prädikat (z.B. birthPlace) -> Objekt (z.B. Italy)**\n",
    "\n",
    "<sup>[Bildquelle: &copy; WordLift](https://wordlift.io/blog/en/entity/linked-data/)</sup>"
   ]
  },
  {
   "cell_type": "markdown",
   "id": "424892d2",
   "metadata": {
    "slideshow": {
     "slide_type": "subslide"
    }
   },
   "source": [
    "### SPARQL-Query absetzen\n",
    "\n",
    "[Link zum Wikidata Query Service](https://w.wiki/4Cep)"
   ]
  },
  {
   "cell_type": "code",
   "execution_count": null,
   "id": "1bb16b0a",
   "metadata": {
    "slideshow": {
     "slide_type": "-"
    }
   },
   "outputs": [],
   "source": [
    "# direkte SPARQL-Query auf WikiData\n",
    "wd_kunstwerke_query = \"\"\"\n",
    "SELECT DISTINCT ?artwork ?artworkLabel ?creator ?creatorLabel ?creatorBirthday ?createDateOfDeath ?geo\n",
    "WHERE\n",
    "{\n",
    "  ?artwork wdt:P136 wd:Q557141 .           # Genre \"Kunst im öffentlichen Raum\"\n",
    "  ?artwork wdt:P131 wd:Q72 .               # liegt in Zürich\n",
    "  OPTIONAL {\n",
    "    ?artwork wdt:P170 ?creator .           # Urheber des Werks\n",
    "    ?creator wdt:P569 ?creatorBirthday .   # Geburtsdatum des Urhebers\n",
    "    ?creator wdt:P570 ?createDateOfDeath . # Todesdatum des Urhebers\n",
    "  }   \n",
    "  OPTIONAL {\n",
    "    ?artwork wdt:P625 ?geo .               # Koordinaten für Kartenansicht\n",
    "  }       \n",
    " \n",
    "  SERVICE wikibase:label {\n",
    "    bd:serviceParam wikibase:language \"[AUTO_LANGUAGE],de,en\"\n",
    "  }\n",
    "}\n",
    "ORDER BY ?artworkLabel\n",
    "\"\"\"\n",
    "wd_result = utils.wikidata_query(wd_kunstwerke_query)\n",
    "wikidata_df = pd.DataFrame(wd_result)\n",
    "wikidata_df.head()"
   ]
  },
  {
   "cell_type": "markdown",
   "id": "2e62abd5",
   "metadata": {
    "slideshow": {
     "slide_type": "subslide"
    }
   },
   "source": [
    "### Result als GeoDataFrame"
   ]
  },
  {
   "cell_type": "code",
   "execution_count": null,
   "id": "882fd015",
   "metadata": {
    "slideshow": {
     "slide_type": "-"
    }
   },
   "outputs": [],
   "source": [
    "wikidata_df[(pd.isna(wikidata_df.geo))]"
   ]
  },
  {
   "cell_type": "code",
   "execution_count": null,
   "id": "946b83a5",
   "metadata": {
    "slideshow": {
     "slide_type": "-"
    }
   },
   "outputs": [],
   "source": [
    "# remove entries with empty coordinates\n",
    "wikidata_df = wikidata_df.dropna(subset=['geo']).reset_index(drop=True)\n",
    "wikidata_df.head()"
   ]
  },
  {
   "cell_type": "code",
   "execution_count": null,
   "id": "20035b66",
   "metadata": {
    "slideshow": {
     "slide_type": "-"
    }
   },
   "outputs": [],
   "source": [
    "# Erstelle GeoDataFrame\n",
    "#wikidata_gdf = geopandas.GeoDataFrame(wikidata_df, geometry=geopandas.points_from_xy(wikidata_df.lon, wikidata_df.lat))\n",
    "wikidata_gdf = geopandas.GeoDataFrame(wikidata_df, geometry=geopandas.GeoSeries.from_wkt(wikidata_df.geo))\n",
    "wikidata_gdf = wikidata_gdf.drop(columns=['geo'])\n",
    "wikidata_gdf = wikidata_gdf.set_crs(wgs84)\n",
    "wikidata_gdf = wikidata_gdf.dropna(subset=['geometry']).reset_index(drop=True)\n",
    "wikidata_gdf.head()"
   ]
  },
  {
   "cell_type": "markdown",
   "id": "b5debdb1",
   "metadata": {
    "slideshow": {
     "slide_type": "subslide"
    }
   },
   "source": [
    "### Resultat auf Karte darstellen"
   ]
  },
  {
   "cell_type": "code",
   "execution_count": null,
   "id": "f7c8682d",
   "metadata": {
    "slideshow": {
     "slide_type": "-"
    }
   },
   "outputs": [],
   "source": [
    "# Basiskarte \n",
    "wikimap = utils.base_map()\n",
    "\n",
    "wd_layer = folium.FeatureGroup(name='WikiData: public art', show=True)\n",
    "utils.style_layer(wikidata_gdf, wd_layer, color='green', icon='eye', prefix='fa')\n",
    "wd_layer.add_to(wikimap)\n",
    "\n",
    "wikimap"
   ]
  },
  {
   "cell_type": "markdown",
   "id": "411ed7c9",
   "metadata": {
    "slideshow": {
     "slide_type": "slide"
    }
   },
   "source": [
    "# Food for thought / Aufgaben für Fortgeschrittene\n",
    "\n",
    "1. Wie können wir einen Spatial Join zwischen dem KiöR und dem WikiData Dataset machen?\n",
    "1. Wie kann eine Kombination aus Spatial Join und Attribute Join gemacht werden (um die Qualität der Matches zu verbessern)?\n",
    "1. Wie könnten Daten aus OSM und WikiData in städtische Daten integriert werden?\n",
    "    * Als Datenquelle?\n",
    "    * Als Plausibilitätscheck?\n",
    "    * Daten abgleichen?\n",
    "    * ...?\n",
    "1. Wie könnten städtische Daten in OSM und WikiData integriert werden?\n",
    "    * via OGD?\n",
    "    * direkt via Bot?\n",
    "    * ...?"
   ]
  },
  {
   "cell_type": "markdown",
   "id": "47836eb2",
   "metadata": {
    "slideshow": {
     "slide_type": "slide"
    }
   },
   "source": [
    "# Anhang und Tutorials\n",
    "\n",
    "## OpenStreetMap (OSM)\n",
    "\n",
    "* [OpenStreetMap Wiki](https://wiki.openstreetmap.org/wiki/DE:Hauptseite)\n",
    "    * [tourism=artwork](https://wiki.openstreetmap.org/wiki/DE:Tag:tourism%3Dartwork)\n",
    "    * [Taginfo tourism=artwork](https://taginfo.openstreetmap.org/tags/tourism=artwork#overview)\n",
    "* [Overpass API](https://wiki.openstreetmap.org/wiki/Overpass_API): Abfragen für OpenStreetMap\n",
    "    * [Overpass Turbo Weltweit](https://overpass-turbo.eu/)\n",
    "    * [Overpass Turbo Schweiz](https://overpass-turbo.osm.ch/)\n",
    "* [OpenSchoolMaps](https://openschoolmaps.ch/): Unterrichtsmaterial inkl. Einsteigerhilfe zu OpenStreetMap\n",
    "* [learnOSM](https://learnosm.org/de/): Schritt-für-Schritt-Anleitungen\n",
    "\n",
    "## WikiData\n",
    "\n",
    "* [WikiData Query Service](https://query.wikidata.org/): Tool für SPARQL-Abfragen inkl. vielen Beispielen\n",
    "* [WikiData Training](https://www.wikidata.org/wiki/Wikidata:Training): Einführung in WikiData\n",
    "* [WikiData SPARQL Tutorial](https://www.wikidata.org/wiki/Wikidata:SPARQL_tutorial)\n",
    "* [Wikidata Jupyter Notebooks von OpenDataZurich](https://opendatazurich.github.io/wikidata-training/): MediaWiki API, SPARQL, Bots\n",
    "* [EUCLID: Querying Linked Data](https://euclid-project.eu/modules/course2.html): SPARQL-Kurs"
   ]
  }
 ],
 "metadata": {
  "kernelspec": {
   "display_name": "Python 3 (ipykernel)",
   "language": "python",
   "name": "python3"
  },
  "language_info": {
   "codemirror_mode": {
    "name": "ipython",
    "version": 3
   },
   "file_extension": ".py",
   "mimetype": "text/x-python",
   "name": "python",
   "nbconvert_exporter": "python",
   "pygments_lexer": "ipython3",
   "version": "3.7.3"
  },
  "toc": {
   "base_numbering": 1,
   "nav_menu": {},
   "number_sections": true,
   "sideBar": true,
   "skip_h1_title": false,
   "title_cell": "Table of Contents",
   "title_sidebar": "Inhaltverzeichnis",
   "toc_cell": false,
   "toc_position": {},
   "toc_section_display": true,
   "toc_window_display": true
  }
 },
 "nbformat": 4,
 "nbformat_minor": 5
}
