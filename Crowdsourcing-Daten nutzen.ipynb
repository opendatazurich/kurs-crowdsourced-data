{
 "cells": [
  {
   "cell_type": "markdown",
   "id": "27bf63bd",
   "metadata": {
    "slideshow": {
     "slide_type": "skip"
    }
   },
   "source": [
    "- Ziel: wie kann ich einen städtischen Datensatz mit Crowdsourced Zusatzinfos anreichern (OSM + WikiData)\n",
    "- Jupyter Notebook mit Geopandas + Folium Karte\n",
    "- Daten\n",
    "    - OGD/GeoServer: Kunst im Stadtraum (KiöR und KuB)\n",
    "    - Zeigen: Overpass Query + OSM Wiki (Wie suche ich nach passendes Tags?), taginfo\n",
    "    - Join mit OSM: `tourism=artwork`\n",
    "    - Join mit WikiData zu einzelnen Kunstwerken, ihren Künstlern + Foto vom Künstler und Kunstwerk\n",
    "- OSM\n",
    "    - OSM Wiki zeigen\n",
    "    - Overpass Turbo zeigen + Export als GeoJSON\n",
    "- WikiData\n",
    "    - Was ist es?\n",
    "    - Kurze Erklärung zum Datenmodell\n",
    "    - Wie kann ich Geodaten aus WikiData beziehen?\n",
    "    - SPARQL-Abfrage für KioR (Bild + Text + Link auf Wikipedia\n",
    "    - Weitergehende Infos hier: https://www.wikidata.org/wiki/Wikidata:Training\n",
    "- Ganzer Datensatz zum KioR joinen und dann als GPKG exportieren und z.B. in QGIS öffnen\n",
    "- Vor/Nachteile, für welche Datensätze eignet sich dieses Vorgehen?\n",
    "- Quellen und weiterführende Infos zu WikiData + OSM"
   ]
  },
  {
   "cell_type": "markdown",
   "id": "7214426b",
   "metadata": {
    "slideshow": {
     "slide_type": "slide"
    }
   },
   "source": [
    "# Crowdsouring-Daten nutzen\n",
    "\n",
    "Daten aus OpenStreetMap (OSM) und WikiData zusammen mit städtischen Daten nutzen"
   ]
  },
  {
   "cell_type": "code",
   "execution_count": null,
   "id": "cedec76d",
   "metadata": {
    "slideshow": {
     "slide_type": "slide"
    }
   },
   "outputs": [],
   "source": [
    "import os\n",
    "import json\n",
    "from pprint import pprint\n",
    "\n",
    "import requests\n",
    "import folium\n",
    "import geopandas\n",
    "import pandas as pd\n",
    "from IPython.display import HTML, display\n",
    "\n",
    "import utils"
   ]
  },
  {
   "cell_type": "code",
   "execution_count": null,
   "id": "35ce4475",
   "metadata": {
    "slideshow": {
     "slide_type": "-"
    }
   },
   "outputs": [],
   "source": [
    "lv95 = 'EPSG:2056'\n",
    "wgs84 = 'EPSG:4326'"
   ]
  },
  {
   "cell_type": "markdown",
   "id": "6af5cd1b",
   "metadata": {
    "slideshow": {
     "slide_type": "slide"
    }
   },
   "source": [
    "# Städtische Daten «Kunst im öffentlichen Raum (KiöR)» laden\n",
    "\n",
    "Im ersten Teil schauen wir uns an, wie wir städtische Daten mit Daten aus OpenStreetMap (OSM) anreichern können.\n",
    "Dazu laden wir uns zuerst den Datensatz «Kunst im öffentlichen Raum» via WFS.\n",
    "\n",
    "[Via OGD-Portal](https://data.stadt-zuerich.ch/dataset?q=kunst+im+%C3%B6ffentlichen+raum) finden wir den Datensatz [Kunst im Stadtraum](https://data.stadt-zuerich.ch/dataset/geo_kunst_im_stadtraum).\n",
    "Von dort via GeoJSON auf das [Geoportal](https://www.stadt-zuerich.ch/geodaten/download/Kunst_im_Stadtraum?format=10009) zur richtigen URL."
   ]
  },
  {
   "cell_type": "code",
   "execution_count": null,
   "id": "2b16cb9d",
   "metadata": {
    "code_folding": [],
    "slideshow": {
     "slide_type": "subslide"
    }
   },
   "outputs": [],
   "source": [
    "# Variablen setzen\n",
    "kioer_geojson_url = 'https://www.ogd.stadt-zuerich.ch/wfs/geoportal/Kunst_im_Stadtraum?service=WFS&version=1.1.0&request=GetFeature&outputFormat=GeoJSON&typename=view_kioer'\n",
    "kioer_layer = 'view_kioer'\n",
    "wfs_url = 'https://www.ogd.stadt-zuerich.ch/wfs/geoportal/Kunst_im_Stadtraum' \n",
    "layers = utils.get_layers_from_wfs(wfs_url)"
   ]
  },
  {
   "cell_type": "code",
   "execution_count": null,
   "id": "2cf214d4",
   "metadata": {
    "code_folding": [],
    "slideshow": {
     "slide_type": "subslide"
    }
   },
   "outputs": [],
   "source": [
    "# WFS GetFeature Request absetzen\n",
    "r = requests.get(wfs_url, params={\n",
    "    'service': 'WFS',\n",
    "    'version': '1.0.0',\n",
    "    'request': 'GetFeature',\n",
    "    'typename': kioer_layer,\n",
    "    'outputFormat': 'GeoJSON'\n",
    "})\n",
    "kioer_geo = r.json()\n",
    "kioer_geo"
   ]
  },
  {
   "cell_type": "markdown",
   "id": "86a05c71",
   "metadata": {
    "slideshow": {
     "slide_type": "slide"
    }
   },
   "source": [
    "# Daten aus OpenStreetMap laden\n",
    "\n",
    "Wir suchen thematisch passende Daten aus OpenStreetMap.\n",
    "Um diese zu finden, lohnt es sich das [OpenStreetMap Wiki](https://wiki.openstreetmap.org/wiki/Main_Page) zu durchsuchen und passende Tags zu finden."
   ]
  },
  {
   "cell_type": "markdown",
   "id": "a14ea899",
   "metadata": {
    "slideshow": {
     "slide_type": "slide"
    }
   },
   "source": [
    "## OSM-Daten laden\n",
    "\n",
    "Daten von OpenStreetMap (OSM) können u.a. via Overpass API geladen werden.\n",
    "Overpass hat eine eigene Abfragesprache ([Overpass QL](https://wiki.openstreetmap.org/wiki/Overpass_API/Overpass_QL)), mit der Objekte (Nodes, Ways, Relations) abgefragt werden können.\n",
    "\n",
    "![OpenStreetMap Datenmodell](https://user-images.githubusercontent.com/538415/136281860-2af43355-bcb9-47fd-8a34-1c86cf290dbc.png)\n",
    "[Bildquelle: &copy; Itinero](https://docs.itinero.tech/docs/osmsharp/osm.html)"
   ]
  },
  {
   "cell_type": "markdown",
   "id": "078764c4",
   "metadata": {
    "slideshow": {
     "slide_type": "subslide"
    }
   },
   "source": [
    "[Query in Overpass Turbo ausführen](https://osm.li/UfK)"
   ]
  },
  {
   "cell_type": "code",
   "execution_count": null,
   "id": "821eeb1f",
   "metadata": {
    "code_folding": [],
    "slideshow": {
     "slide_type": "-"
    }
   },
   "outputs": [],
   "source": [
    "# Overpass Query absetzen\n",
    "artwork_zh = \"\"\"\n",
    "/*\n",
    "Alle Kunstwerke (tourism=artwork) in der Stadt Zürich\n",
    "*/\n",
    "[out:json];\n",
    "area[\"name\"=\"Zürich\"][\"wikipedia\"=\"de:Zürich\"]->.perimeter; \n",
    "(\n",
    "  nwr[tourism=artwork](area.perimeter);\n",
    ");\n",
    "out center;\n",
    "\"\"\"\n",
    "result = utils.overpass_query(artwork_zh)\n",
    "result"
   ]
  },
  {
   "cell_type": "markdown",
   "id": "660aea8c",
   "metadata": {
    "slideshow": {
     "slide_type": "slide"
    }
   },
   "source": [
    "## Karte mit den Resultaten"
   ]
  },
  {
   "cell_type": "code",
   "execution_count": null,
   "id": "347cebba",
   "metadata": {
    "code_folding": [],
    "slideshow": {
     "slide_type": "-"
    }
   },
   "outputs": [],
   "source": [
    "# Basiskarte\n",
    "m = utils.base_map()\n",
    "\n",
    "# KiöR-Daten hinzufügen\n",
    "kioer_layer = folium.FeatureGroup(name='KiöR', show=True)\n",
    "utils.style_layer(kioer_geo, kioer_layer, icon_color='#031cff', icon='certificate', prefix='fa')\n",
    "kioer_layer.add_to(m)\n",
    "\n",
    "# OSM-Daten hinzufügen\n",
    "osm_layer = folium.FeatureGroup(name='OSM: tourism=artwork', show=True)\n",
    "utils.style_layer(result, osm_layer, icon_color='#ff033e', icon='fire', prefix='fa')\n",
    "osm_layer.add_to(m)\n",
    "\n",
    "# Add controls for layers\n",
    "folium.LayerControl().add_to(m)\n",
    "m"
   ]
  },
  {
   "cell_type": "markdown",
   "id": "9e46094c",
   "metadata": {
    "slideshow": {
     "slide_type": "slide"
    }
   },
   "source": [
    "## Spatial Join der zwei Quellen"
   ]
  },
  {
   "cell_type": "code",
   "execution_count": null,
   "id": "1a36ad35",
   "metadata": {
    "slideshow": {
     "slide_type": "-"
    }
   },
   "outputs": [],
   "source": [
    "kioer_df = geopandas.GeoDataFrame.from_features(kioer_geo, crs=wgs84)\n",
    "kioer_df.head()"
   ]
  },
  {
   "cell_type": "code",
   "execution_count": null,
   "id": "7d16e993",
   "metadata": {
    "slideshow": {
     "slide_type": "subslide"
    }
   },
   "outputs": [],
   "source": [
    "osm_df = geopandas.GeoDataFrame.from_features(result, crs=wgs84)\n",
    "osm_df.head()"
   ]
  },
  {
   "cell_type": "code",
   "execution_count": null,
   "id": "7084fdb5",
   "metadata": {
    "slideshow": {
     "slide_type": "subslide"
    }
   },
   "outputs": [],
   "source": [
    "# drop all elements with empty geometry\n",
    "kior_buf = kioer_df.dropna(subset=['geometry']).reset_index(drop=True)\n",
    "osm_buf = osm_df.dropna(subset=['geometry']).reset_index(drop=True)\n",
    "\n",
    "# CRS zu LV95 re-projezieren\n",
    "kior_buf = kior_buf.to_crs(lv95) # convert to plannar coordinate system\n",
    "osm_buf = osm_buf.to_crs(lv95) # convert to plannar coordinate system\n",
    "\n",
    "# Buffer um die Geometrien hinzufügen (10 Meter)\n",
    "kior_buf['geometry'] = kior_buf.geometry.buffer(10) \n",
    "osm_buf['geometry'] = osm_buf.geometry.buffer(10)"
   ]
  },
  {
   "cell_type": "code",
   "execution_count": null,
   "id": "f32eea99",
   "metadata": {
    "slideshow": {
     "slide_type": "subslide"
    }
   },
   "outputs": [],
   "source": [
    "# Basiskarte \n",
    "bm = utils.base_map()\n",
    "\n",
    "folium.features.GeoJson(\n",
    "    kior_buf.to_crs(wgs84).to_json(),\n",
    "    tooltip=folium.features.GeoJsonTooltip(\n",
    "        fields=['titel', 'autoren', 'datierung', 'material'],\n",
    "        aliases=['Titel:', 'Künstler:', 'Datierung:', 'Material:'],    \n",
    "    )\n",
    ").add_to(bm)\n",
    "\n",
    "folium.features.GeoJson(\n",
    "    osm_buf.to_crs(wgs84).to_json(),\n",
    "    style_function=lambda x: {'fillColor': '#FF0000', 'color': '#FF0000'},\n",
    "    tooltip=folium.features.GeoJsonTooltip(\n",
    "        fields=['name', 'artist_name', 'wikidata'],\n",
    "        aliases=['Titel:', 'Künstler:', \"Wikidata:\"],                      \n",
    "    )\n",
    ").add_to(bm)\n",
    "bm"
   ]
  },
  {
   "cell_type": "code",
   "execution_count": null,
   "id": "45199760",
   "metadata": {
    "slideshow": {
     "slide_type": "subslide"
    }
   },
   "outputs": [],
   "source": [
    "# spatial join über die beiden Geometrien\n",
    "sjoin_kunst = geopandas.sjoin(kior_buf, osm_buf, how='left', predicate='intersects', lsuffix='kior', rsuffix='osm').reset_index()\n",
    "\n",
    "# Wie zurück zu WGS84\n",
    "sjoin_kunst = sjoin_kunst.to_crs(wgs84)\n",
    "\n",
    "\n",
    "with pd.option_context('display.max_rows', None, 'display.max_columns', None):\n",
    "    display(sjoin_kunst[['titel', 'name', 'autoren', 'artist_name', 'material_kior', 'material_osm', 'datierung']])"
   ]
  },
  {
   "cell_type": "code",
   "execution_count": null,
   "id": "d53f0fbe",
   "metadata": {
    "slideshow": {
     "slide_type": "subslide"
    }
   },
   "outputs": [],
   "source": [
    "folium.features.GeoJson(\n",
    "    sjoin_kunst.to_json(),\n",
    "    style_function=lambda x: {'fillColor': '#09bd63', 'color': '#09bd63'},\n",
    "    tooltip=folium.features.GeoJsonTooltip(\n",
    "        fields=['name', 'artist_name', 'wikidata'],\n",
    "        aliases=['Titel:', 'Künstler:', \"Wikidata:\"],                      \n",
    "    )\n",
    ").add_to(bm)\n",
    "bm"
   ]
  },
  {
   "cell_type": "code",
   "execution_count": null,
   "id": "0c613189",
   "metadata": {
    "slideshow": {
     "slide_type": "subslide"
    }
   },
   "outputs": [],
   "source": [
    "# OSM-Einträge ohne Match\n",
    "osm_no_match = osm_df[(~osm_df.id.isin(sjoin_kunst.id))].reset_index()\n",
    "osm_no_match.head()"
   ]
  },
  {
   "cell_type": "code",
   "execution_count": null,
   "id": "9c872097",
   "metadata": {
    "slideshow": {
     "slide_type": "subslide"
    }
   },
   "outputs": [],
   "source": [
    "osm_no_match.to_file(os.path.join('..', 'kunst_package.gpkg'), layer='osm_no_match', driver=\"GPKG\")\n",
    "sjoin_kunst.to_file(os.path.join('..', 'kunst_package.gpkg'), layer='kioer_osm_match', driver=\"GPKG\")"
   ]
  },
  {
   "cell_type": "code",
   "execution_count": null,
   "id": "490510f6",
   "metadata": {
    "code_folding": [],
    "slideshow": {
     "slide_type": "-"
    }
   },
   "outputs": [],
   "source": [
    "# Das GeoPackage lässt sich z.B. in QGIS öffnen"
   ]
  },
  {
   "cell_type": "markdown",
   "id": "82c022f9",
   "metadata": {
    "slideshow": {
     "slide_type": "slide"
    }
   },
   "source": [
    "# Daten aus WikiData laden"
   ]
  },
  {
   "cell_type": "markdown",
   "id": "64bce0a0",
   "metadata": {
    "slideshow": {
     "slide_type": "slide"
    }
   },
   "source": [
    "## Daten via WikiData-Verweise von OSM holen\n",
    "\n",
    "[OpenStreetMap Node «Heureka»](https://www.openstreetmap.org/node/268472148)\n"
   ]
  },
  {
   "cell_type": "code",
   "execution_count": null,
   "id": "2c658363",
   "metadata": {
    "slideshow": {
     "slide_type": "-"
    }
   },
   "outputs": [],
   "source": [
    "# WikiData Verweise von OpenStreetMap\n",
    "osm_kunst_wd = osm_df[(~pd.isna(osm_df.wikidata))] # alle Einträge, bei denen \"wikidata\" nicht leer ist\n",
    "osm_kunst_wd = osm_kunst_wd[['geometry', 'type', 'id', 'artist_name', 'artist:wikidata', 'name', 'wikidata']].reset_index(drop=True)\n",
    "osm_kunst_wd.head()"
   ]
  },
  {
   "cell_type": "markdown",
   "id": "c1b33e1e",
   "metadata": {
    "slideshow": {
     "slide_type": "slide"
    }
   },
   "source": [
    "### Beispiel-Abfrage nach WikiData Item\n",
    "\n",
    "[Wikidata-Item «Heureka»](https://www.wikidata.org/wiki/Q1378316)"
   ]
  },
  {
   "cell_type": "code",
   "execution_count": null,
   "id": "f7b0e8fb",
   "metadata": {
    "slideshow": {
     "slide_type": "-"
    }
   },
   "outputs": [],
   "source": [
    "wikidata_item = utils.wikidata_item(osm_kunst_wd['wikidata'].iloc[1])\n",
    "pprint(wikidata_item)"
   ]
  },
  {
   "cell_type": "code",
   "execution_count": null,
   "id": "066a9ce0",
   "metadata": {
    "slideshow": {
     "slide_type": "subslide"
    }
   },
   "outputs": [],
   "source": [
    "category = wikidata_item['sitelinks']['commonswiki']['title']\n",
    "urls = utils.images_from_commons_category(category, image_size=500)\n",
    "urls"
   ]
  },
  {
   "cell_type": "code",
   "execution_count": null,
   "id": "00d741a4",
   "metadata": {
    "slideshow": {
     "slide_type": "subslide"
    }
   },
   "outputs": [],
   "source": [
    "display(HTML(''.join([utils.img_html(url) for url in urls])))"
   ]
  },
  {
   "cell_type": "markdown",
   "id": "4cd8a3aa",
   "metadata": {
    "slideshow": {
     "slide_type": "slide"
    }
   },
   "source": [
    "## Daten via SPARQL aus WikiData beziehen\n",
    "\n",
    "Um Daten aus WikiData zu laden, können Abfragen mit SPARQL gemacht werden. SPARQL ist eine SQL-ähnliche Abfragesprache für Linked Data.\n",
    "\n",
    "Die Idee von Linked Data ist es, einen Informations-Graphen in Form von sogenannten «Triples» abzubilden:\n",
    "\n",
    "![Linked Data Triple](assets/images/download.webp)\n",
    "\n",
    "[Bildquelle: &copy; WordLift](https://wordlift.io/blog/en/entity/linked-data/)\n",
    "\n",
    "**Triple = Subjekt (z.B. Marie) -> Prädikat (z.B. birthPlace) -> Objekt (z.B. Italy)**"
   ]
  },
  {
   "cell_type": "markdown",
   "id": "424892d2",
   "metadata": {
    "slideshow": {
     "slide_type": "slide"
    }
   },
   "source": [
    "SPARQL-Query\n",
    "\n",
    "[Link zum Wikidata Query Service](https://w.wiki/4BJ8)"
   ]
  },
  {
   "cell_type": "code",
   "execution_count": null,
   "id": "1bb16b0a",
   "metadata": {
    "slideshow": {
     "slide_type": "-"
    }
   },
   "outputs": [],
   "source": [
    "# direkte SPARQL-Query auf WikiData\n",
    "wd_kunstwerke_query = \"\"\"\n",
    "SELECT DISTINCT ?artwork ?artworkLabel ?creator ?creatorLabel ?creatorBirthday ?createDateOfDeath ?geo ?lat ?lon\n",
    "WHERE\n",
    "{\n",
    "  ?artwork wdt:P136 wd:Q557141 .           # Genre \"Kunst im öffentlichen Raum\"\n",
    "  ?artwork wdt:P131 wd:Q72 .               # liegt in Zürich\n",
    "  OPTIONAL {\n",
    "    ?artwork wdt:P170 ?creator .           # Urheber des Werks\n",
    "    ?creator wdt:P569 ?creatorBirthday .\n",
    "    ?creator wdt:P570 ?createDateOfDeath .\n",
    "  }   \n",
    "  OPTIONAL {\n",
    "    ?artwork wdt:P625 ?geo .               # Koordinaten für Kartenansicht\n",
    "    ?artwork p:P625/psv:P625 ?coord .\n",
    "    ?coord wikibase:geoLatitude ?lat .\n",
    "    ?coord wikibase:geoLongitude ?lon .\n",
    "  }       \n",
    " \n",
    "  SERVICE wikibase:label {\n",
    "    bd:serviceParam wikibase:language \"[AUTO_LANGUAGE],de,en\"\n",
    "  }\n",
    "}\n",
    "ORDER BY ?artworkLabel\n",
    "\"\"\"\n",
    "result = utils.wikidata_query(wd_kunstwerke_query)\n",
    "result"
   ]
  },
  {
   "cell_type": "code",
   "execution_count": null,
   "id": "caa49c57",
   "metadata": {},
   "outputs": [],
   "source": [
    "flat_result = [{k: r[k]['value'] for k,v in r.items()} for r in result]\n",
    "wikidata_df = pd.DataFrame(flat_result)\n",
    "wikidata_df"
   ]
  },
  {
   "cell_type": "markdown",
   "id": "47836eb2",
   "metadata": {
    "slideshow": {
     "slide_type": "slide"
    }
   },
   "source": [
    "# Anhang und Tutorials\n",
    "\n",
    "## OpenStreetMap (OSM)\n",
    "\n",
    "\n",
    "## WikiData\n",
    "\n",
    "* Weitergehende Infos hier: https://www.wikidata.org/wiki/Wikidata:Training"
   ]
  },
  {
   "cell_type": "code",
   "execution_count": null,
   "id": "0aede551",
   "metadata": {},
   "outputs": [],
   "source": []
  }
 ],
 "metadata": {
  "celltoolbar": "Slideshow",
  "kernelspec": {
   "display_name": "Python 3 (ipykernel)",
   "language": "python",
   "name": "python3"
  },
  "language_info": {
   "codemirror_mode": {
    "name": "ipython",
    "version": 3
   },
   "file_extension": ".py",
   "mimetype": "text/x-python",
   "name": "python",
   "nbconvert_exporter": "python",
   "pygments_lexer": "ipython3",
   "version": "3.7.3"
  },
  "toc": {
   "base_numbering": 1,
   "nav_menu": {},
   "number_sections": true,
   "sideBar": true,
   "skip_h1_title": false,
   "title_cell": "Table of Contents",
   "title_sidebar": "Inhaltverzeichnis",
   "toc_cell": false,
   "toc_position": {},
   "toc_section_display": true,
   "toc_window_display": true
  }
 },
 "nbformat": 4,
 "nbformat_minor": 5
}
